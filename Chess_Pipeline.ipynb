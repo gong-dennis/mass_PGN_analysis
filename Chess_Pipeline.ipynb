{
 "cells": [
  {
   "cell_type": "markdown",
   "metadata": {},
   "source": [
    "Step 1: Download all the PGNs\n",
    "\n",
    "Resource: https://www.chess.com/news/view/published-data-api#pubapi-endpoint-games-archive"
   ]
  },
  {
   "cell_type": "code",
   "execution_count": 40,
   "metadata": {},
   "outputs": [],
   "source": [
    "import webbrowser, os, shutil, glob"
   ]
  },
  {
   "cell_type": "code",
   "execution_count": 41,
   "metadata": {},
   "outputs": [],
   "source": [
    "for month in range(1,13):\n",
    "    for year in range(2019, 2020):\n",
    "        page = 'https://api.chess.com/pub/player/19991228/games/' + str(year) + '/' + str(month) + '/pgn'\n",
    "        webbrowser.open(page)"
   ]
  },
  {
   "cell_type": "markdown",
   "metadata": {},
   "source": [
    "Step 2: Move all PGNs to location"
   ]
  },
  {
   "cell_type": "code",
   "execution_count": 42,
   "metadata": {},
   "outputs": [],
   "source": [
    "source = '/Users/dennisgong/Downloads'\n",
    "destination = '/Users/dennisgong/Documents/Github/mass_PGN_analysis/PGNs'\n",
    "\n",
    "files = []\n",
    "count = 0\n",
    "for name in glob.glob('/Users/dennisgong/Downloads/ChessCom*'):\n",
    "    files.append(name)\n",
    "    count += 1\n",
    "\n",
    "for f in files:\n",
    "    shutil.move(f, destination)"
   ]
  },
  {
   "cell_type": "code",
   "execution_count": 37,
   "metadata": {},
   "outputs": [
    {
     "name": "stdout",
     "output_type": "stream",
     "text": [
      "1\n",
      "2\n",
      "3\n",
      "4\n",
      "5\n",
      "6\n",
      "7\n",
      "8\n",
      "9\n",
      "10\n",
      "11\n"
     ]
    }
   ],
   "source": []
  },
  {
   "cell_type": "code",
   "execution_count": null,
   "metadata": {},
   "outputs": [],
   "source": []
  }
 ],
 "metadata": {
  "kernelspec": {
   "display_name": "Python 3",
   "language": "python",
   "name": "python3"
  },
  "language_info": {
   "codemirror_mode": {
    "name": "ipython",
    "version": 3
   },
   "file_extension": ".py",
   "mimetype": "text/x-python",
   "name": "python",
   "nbconvert_exporter": "python",
   "pygments_lexer": "ipython3",
   "version": "3.7.3"
  }
 },
 "nbformat": 4,
 "nbformat_minor": 2
}
